{
 "cells": [
  {
   "cell_type": "markdown",
   "metadata": {},
   "source": [
    "# Mergesort"
   ]
  },
  {
   "cell_type": "markdown",
   "metadata": {},
   "source": [
    "### Merging with smaller auxiliary array.\n",
    "\n",
    "Suppose that the subarray `a[0]` to `a[n−1]` is sorted and the subarray `a[n]` to `a[2∗n−1]` is sorted.\n",
    "\n",
    "How can you merge the two subarrays so that `a[0]` to `a[2∗n−1]` is sorted using an auxiliary array of length n (instead of 2n)?"
   ]
  },
  {
   "cell_type": "code",
   "execution_count": null,
   "metadata": {},
   "outputs": [],
   "source": [
    "a = [1, 3, 5, 7, 8]\n",
    "b = [2, 5, 6, 12, 54]"
   ]
  },
  {
   "cell_type": "markdown",
   "metadata": {},
   "source": [
    "### Counting inversions.\n",
    "\n",
    "An inversion in an array `a[]` is a pair of entries `a[i]` and `a[j]` such that `i<j` but `a[i]>a[j]`.\n",
    "\n",
    "\n",
    "Given an array, design a linearithmic algorithm to count the number of inversions."
   ]
  },
  {
   "cell_type": "code",
   "execution_count": 8,
   "metadata": {},
   "outputs": [
    {
     "name": "stdout",
     "output_type": "stream",
     "text": [
      "[0] 0\n",
      "[0, 8] 1\n",
      "[0, 8, 12] 2\n",
      "[0, 7, 8, 12] 1\n",
      "[0, 3, 7, 8, 12] 1\n"
     ]
    },
    {
     "data": {
      "text/plain": [
       "5"
      ]
     },
     "execution_count": 8,
     "metadata": {},
     "output_type": "execute_result"
    }
   ],
   "source": [
    "#n log n \n",
    "\n",
    "a = [1, 5, 4, 2, 3] # 5 \n",
    "a = [3, 7, 12, 8, 0] # 5\n",
    "\n",
    "def binary_search(ls, element):\n",
    "    \"\"\" find index to be put in \"\"\"\n",
    "    if len(ls) == 1: \n",
    "        if element < ls[0]:\n",
    "            return 0\n",
    "        else:\n",
    "            return 1\n",
    "\n",
    "    l, r = 0, len(ls) - 1\n",
    "    while l <= r:\n",
    "        mid = (l + r) // 2\n",
    "        if element <= ls[mid]:\n",
    "            r = mid - 1\n",
    "        else:\n",
    "            l = mid + 1\n",
    "    return l\n",
    "\n",
    "\n",
    "inversion = 0\n",
    "sorted_a = []\n",
    "for i in range(len(a)-1, -1, -1):\n",
    "    element = a[i]\n",
    "    count = binary_search(sorted_a, element)\n",
    "    sorted_a.insert(count, element) \n",
    "    print(sorted_a, count)\n",
    "    inversion += count\n",
    "    \n",
    "\n",
    "inversion\n"
   ]
  },
  {
   "cell_type": "markdown",
   "metadata": {},
   "source": [
    "### Shuffling a linked list.\n",
    "\n",
    "Given a singly-linked list containing n items, rearrange the items uniformly at random.\n",
    "\n",
    "Your algorithm should consume a logarithmic (or constant) amount of extra memory and run in time proportional to nlogn in the worst case. "
   ]
  },
  {
   "cell_type": "code",
   "execution_count": null,
   "metadata": {},
   "outputs": [],
   "source": [
    "[0, 3, 7, 8, 12]\n",
    "[3,7,0,8,12]\n",
    "[7,0,8,12,3]\n",
    "\n",
    "i = random.int(n) # index 0 -> 3\n",
    "\n",
    "node.next\n",
    "node.val\n",
    "head = Node(0, Node(3, Node(7, Node(8, Node(12, None)))))\n",
    "#count\n",
    "current, nextNode\n",
    "current, current.next = nextNode, nextNode.next\n",
    "\n",
    "\n",
    "Node.next = null\n",
    "ls[:i]"
   ]
  },
  {
   "cell_type": "markdown",
   "metadata": {},
   "source": [
    "# Collinear Points"
   ]
  },
  {
   "cell_type": "code",
   "execution_count": null,
   "metadata": {},
   "outputs": [],
   "source": [
    "class Point:\n",
    "    def __init__(self, x, y):\n",
    "        \"\"\" constructs the point (x, y) \"\"\"\n",
    "        self.x = x\n",
    "        self.y = y\n",
    "    \n",
    "    def __str__(self):\n",
    "        \"\"\" string representation \"\"\"\n",
    "        return f\"({self.x}, {self.y})\"\n",
    "    \n",
    "    def __lt__(self, that):\n",
    "        \"\"\"\n",
    "        Compare two points by y-coordinates, breaking ties by x-coordinates.\n",
    "        Formally, the invoking point (x0, y0) is less than the argument point (x1, y1)\n",
    "        if and only if either y0 < y1 or if y0 = y1 and x0 < x1.\n",
    "        \"\"\"\n",
    "        # if self.y < point.y or (self.y == point.y and self.x < point.x):\n",
    "        #     return True\n",
    "        # return False\n",
    "        if self.y < that.y or (self.y == that.y and self.x < that.x ):\n",
    "            return -1\n",
    "        elif self.y > that.y or (self.y == that.y and self.x > that.x):\n",
    "            return 1\n",
    "        else:\n",
    "            return 0\n",
    "\n",
    "    def draw(self):\n",
    "        \"\"\" draws this point \"\"\"\n",
    "        pass\n",
    "\n",
    "    def drawTo(self):\n",
    "        \"\"\" draws the line segment from this point to that point \"\"\"\n",
    "        pass\n",
    "\n",
    "    def slopeTo(self, point):\n",
    "        \"\"\"\n",
    "        Return the slope between the invoking point (x0, y0) and the argument point (x1, y1),\n",
    "        which is given by the formula (y1 − y0) / (x1 − x0).\n",
    "        Treat the slope of a horizontal line segment as positive zero;\n",
    "        treat the slope of a vertical line segment as positive infinity;\n",
    "        treat the slope of a degenerate line segment (between a point and itself) as negative infinity.\n",
    "        \"\"\"\n",
    "        if self.x == point.x:\n",
    "            if self.y == point.y: # degenerate line segment\n",
    "                return float('-inf')\n",
    "            else:\n",
    "                return float('inf') # horizontal line segment\n",
    "        return (point.y - self.y) / (point.x - self.x)\n",
    "    \n",
    "    def slopeOrder(self, point_1, point_2):\n",
    "        \"\"\"\n",
    "        Return a comparator that compares its two argument points by the slopes they make with\n",
    "        the invoking point (x0, y0). Formally, the point (x1, y1) is less than the point (x2, y2)\n",
    "        if and only if the slope (y1 − y0) / (x1 − x0) is less than the slope (y2 − y0) / (x2 − x0).\n",
    "        Treat horizontal, vertical, and degenerate line segments as in the slopeTo() method.\n",
    "        \"\"\"\n",
    "        slope_1 = self.slopeTo(point_1)\n",
    "        slope_2 = self.slopeTo(point_2)\n",
    "        if slope_1 < slope_2:\n",
    "            return -1\n",
    "        elif slope_1 > slope_2:\n",
    "            return 1\n",
    "        else:\n",
    "            return 0\n",
    "        \n",
    "\n"
   ]
  }
 ],
 "metadata": {
  "kernelspec": {
   "display_name": "Python 3",
   "language": "python",
   "name": "python3"
  },
  "language_info": {
   "codemirror_mode": {
    "name": "ipython",
    "version": 3
   },
   "file_extension": ".py",
   "mimetype": "text/x-python",
   "name": "python",
   "nbconvert_exporter": "python",
   "pygments_lexer": "ipython3",
   "version": "3.9.6"
  }
 },
 "nbformat": 4,
 "nbformat_minor": 2
}
