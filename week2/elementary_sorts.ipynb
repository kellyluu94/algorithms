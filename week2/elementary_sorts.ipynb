{
 "cells": [
  {
   "cell_type": "markdown",
   "metadata": {},
   "source": [
    "### Intersection of two sets\n",
    "\n",
    "Given two arrays a[] and b[], each containing n distinct 2D points in the plane, design a subquadratic algorithm to count the number of points that are contained both in array a[] and array b[]."
   ]
  },
  {
   "cell_type": "code",
   "execution_count": 27,
   "metadata": {},
   "outputs": [],
   "source": [
    "def is_intersection(a, b):\n",
    "    a.sort(key=lambda point: (point[0], point[1]))\n",
    "    b.sort(key=lambda point: (point[0], point[1]))\n",
    "\n",
    "    count = 0\n",
    "    for x1, y1 in a:\n",
    "        for x2, y2 in b:\n",
    "            if x1 == x2 and y1 == y2:\n",
    "                count += 1\n",
    "                break\n",
    "    return count"
   ]
  },
  {
   "cell_type": "code",
   "execution_count": 29,
   "metadata": {},
   "outputs": [
    {
     "name": "stdout",
     "output_type": "stream",
     "text": [
      "2\n",
      "0\n",
      "0\n",
      "3\n",
      "1\n"
     ]
    }
   ],
   "source": [
    "# Test cases\n",
    "a1 = [(1, 2), (3, 4), (5, 6)]\n",
    "b1 = [(3, 4), (5, 6), (7, 8)]\n",
    "print(is_intersection(a1, b1))  # Output: 2 (points (3, 4) and (5, 6) are common)\n",
    "\n",
    "a2 = [(1, 2), (3, 4), (5, 6)]\n",
    "b2 = [(7, 8), (9, 10), (11, 12)]\n",
    "print(is_intersection(a2, b2))  # Output: 0 (no common points)\n",
    "\n",
    "a3 = []\n",
    "b3 = []\n",
    "print(is_intersection(a3, b3))  # Output: 0 (both arrays are empty)\n",
    "\n",
    "a4 = [(1, 2), (3, 4), (5, 6)]\n",
    "b4 = [(1, 2), (3, 4), (5, 6)]\n",
    "print(is_intersection(a4, b4))  # Output: 3 (all points are common)\n",
    "\n",
    "a5 = [(1, 2), (3, 4), (5, 6)]\n",
    "b5 = [(1, 2), (7, 8), (9, 10)]\n",
    "print(is_intersection(a5, b5))  # Output: 1 (only point (1, 2) is common)"
   ]
  },
  {
   "cell_type": "markdown",
   "metadata": {},
   "source": [
    "### Permutation\n",
    "\n",
    "Given two integer arrays of size n, design a subquadratic algorithm to determine whether one is a permutation of the other.\n",
    "That is, do they contain exactly the same entries but, possibly, in a different order."
   ]
  },
  {
   "cell_type": "code",
   "execution_count": 21,
   "metadata": {},
   "outputs": [
    {
     "data": {
      "text/plain": [
       "True"
      ]
     },
     "execution_count": 21,
     "metadata": {},
     "output_type": "execute_result"
    }
   ],
   "source": [
    "a = [2, 1, 3, 4]\n",
    "b = [4, 2, 1, 3]\n",
    "\n",
    "def is_permutation(a, b):\n",
    "    n = len(a)\n",
    "    for i in range(n):\n",
    "        min_a, min_b = i, i\n",
    "        for j in range(i + 1, n):\n",
    "            if a[j] < a[min_a]:\n",
    "                min_a = j\n",
    "            if b[j] < b[min_b]:\n",
    "                min_b = j\n",
    "        a[i], a[min_a] = a[min_a], a[i]\n",
    "        b[i], b[min_b] = b[min_b], b[i]\n",
    "    return a == b\n",
    "\n",
    "is_permutation(a, b)"
   ]
  },
  {
   "cell_type": "code",
   "execution_count": 22,
   "metadata": {},
   "outputs": [
    {
     "name": "stdout",
     "output_type": "stream",
     "text": [
      "True\n",
      "False\n",
      "True\n",
      "False\n",
      "True\n"
     ]
    }
   ],
   "source": [
    "# Test cases\n",
    "arr1 = [1, 2, 3, 4, 5]\n",
    "arr2 = [5, 4, 3, 2, 1]\n",
    "print(is_permutation(arr1, arr2))  # True\n",
    "\n",
    "arr3 = [1, 2, 3, 4, 5]\n",
    "arr4 = [1, 2, 3, 4, 6]\n",
    "print(is_permutation(arr3, arr4))  # False\n",
    "\n",
    "arr5 = []\n",
    "arr6 = []\n",
    "print(is_permutation(arr5, arr6))  # True (both empty)\n",
    "\n",
    "arr7 = [1, 2, 3]\n",
    "arr8 = [1, 2, 3, 4]\n",
    "print(is_permutation(arr7, arr8))  # False (different lengths)\n",
    "\n",
    "arr9 = [1, 1, 2, 2, 3, 3]\n",
    "arr10 = [3, 2, 2, 3, 1, 1]\n",
    "print(is_permutation(arr9, arr10))  # True (duplicate elements)"
   ]
  },
  {
   "cell_type": "markdown",
   "metadata": {},
   "source": [
    "### Dutch national flag.\n",
    "\n",
    "Given an array of n buckets, each containing a red, white, or blue pebble, sort them by color. The allowed operations are:\n",
    "- swap(i,j):  swap the pebble in bucket i with the pebble in bucket j.\n",
    "- color(i): determine the color of the pebble in bucket i.\n",
    "\n",
    "The performance requirements are as follows:\n",
    "- At most n calls to color().\n",
    "- At most n calls to swap().\n",
    "- Constant extra space."
   ]
  },
  {
   "cell_type": "markdown",
   "metadata": {},
   "source": [
    "for i in range(n):\n",
    "    "
   ]
  }
 ],
 "metadata": {
  "kernelspec": {
   "display_name": "Python 3",
   "language": "python",
   "name": "python3"
  },
  "language_info": {
   "codemirror_mode": {
    "name": "ipython",
    "version": 3
   },
   "file_extension": ".py",
   "mimetype": "text/x-python",
   "name": "python",
   "nbconvert_exporter": "python",
   "pygments_lexer": "ipython3",
   "version": "3.9.6"
  }
 },
 "nbformat": 4,
 "nbformat_minor": 2
}
