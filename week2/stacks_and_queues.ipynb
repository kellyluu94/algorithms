{
 "cells": [
  {
   "cell_type": "markdown",
   "metadata": {},
   "source": [
    "### Queue with two stack\n",
    "\n",
    "Implement a queue with two stacks so that each queue operations takes a constant amortized number of stack operations.\n"
   ]
  },
  {
   "cell_type": "code",
   "execution_count": null,
   "metadata": {},
   "outputs": [],
   "source": [
    "class QueueWithTwoStacks:\n",
    "    # Use two stacks, one for enqueue operations, and the other for dequeue operations.\n",
    "    def __init__(self):\n",
    "        self.stack_enqueue = []\n",
    "        self.stack_dequeue = []\n",
    "\n",
    "    # Lazy transfer: avoid transferring elements between two stacks for every enqueue/dequeue.\n",
    "    # Amortized time: transferring elements in batches, rather one at a time.\n",
    "\n",
    "    def enqueue(self, item):\n",
    "        self.stack_enqueue.append(item)\n",
    "\n",
    "    # Dequeue doesn't requre transferring elements between stacks unless absolutely needed\n",
    "    def dequeue(self):\n",
    "        if not self.stack_dequeue:\n",
    "            while self.stack_enqueue:\n",
    "                self.stack_dequeue.append(self.stack_enqueue.pop())\n",
    "        \n",
    "        if self.stack_dequeue:\n",
    "            return self.stack_dequeue.pop()\n",
    "        else:\n",
    "            return None\n",
    "\n",
    "    def is_empty(self):\n",
    "        return not self.stack_enqueue and not self.stack_dequeue\n",
    "\n",
    "    def size(self):\n",
    "        return len(self.stack_enqueue) + len(self.stack_dequeue)\n"
   ]
  },
  {
   "cell_type": "markdown",
   "metadata": {},
   "source": [
    "### Stack with max\n",
    "Create a data structure that efficiently supports the stack operations (push and pop) and also a return-the-maximum operation. Assume the elements are real numbers so that you can compare them."
   ]
  },
  {
   "cell_type": "code",
   "execution_count": null,
   "metadata": {},
   "outputs": [],
   "source": [
    "class StackWithMax:\n",
    "    def _init_(self):\n",
    "        self.stack = []\n",
    "        self.maximum = 0\n",
    "    \n",
    "    def push(self, item):\n",
    "        self.stack.append(item)\n",
    "        if item > self.maximum:\n",
    "            self.maximum = item\n",
    "    \n",
    "    def pop(self):\n",
    "        if self.stack:\n",
    "            return self.stack.pop()\n",
    "        return None\n",
    "    \n",
    "    def maximum(self):\n",
    "        return self.maximum\n",
    "\n"
   ]
  },
  {
   "cell_type": "markdown",
   "metadata": {},
   "source": [
    "### Deque (pronounced “deck”)\n",
    "\n",
    "A generalization of a stack and a queue that supports adding and removing items from either the front or the back of the data structure.\n"
   ]
  },
  {
   "cell_type": "code",
   "execution_count": 20,
   "metadata": {},
   "outputs": [],
   "source": [
    "class Deque:\n",
    "    def __init__(self) -> None:\n",
    "        \"\"\" construct an empty deque \"\"\"\n",
    "        self.stack = []\n",
    "    \n",
    "    def __iter__(self):\n",
    "        return DequeIterator(self.stack)\n",
    "    \n",
    "    def is_empty(self) -> bool:\n",
    "        \"\"\" is the deque empty? \"\"\"\n",
    "        return len(self.stack) == 0\n",
    "    \n",
    "    def size(self) -> int:\n",
    "        \"\"\" return the number of items on the deque \"\"\"\n",
    "        return len(self.stack)\n",
    "    \n",
    "    def add_first(self, item):\n",
    "        \"\"\" add the item to the front \"\"\"\n",
    "        if not item:\n",
    "            raise ValueError('Item must be non-null')\n",
    "        self.stack.insert(0, item)\n",
    "    \n",
    "    def add_last(self, item):\n",
    "        \"\"\" add the item to the back \"\"\"\n",
    "        if not item:\n",
    "            raise ValueError('Item must be non-null')\n",
    "        self.stack.append(item)\n",
    "    \n",
    "    def remove_first(self) -> object:\n",
    "        \"\"\" remove and return the item from the front \"\"\"\n",
    "        if self.is_empty():\n",
    "            raise IndexError('Deque is empty')        \n",
    "        return self.stack.pop(0)\n",
    "\n",
    "    def remove_last(self) -> object:\n",
    "        \"\"\" remove and return the item from the back \"\"\"\n",
    "        if self.is_empty():\n",
    "            raise IndexError('Deque is empty')\n",
    "        return self.stack.pop()\n",
    "\n",
    "class DequeIterator:\n",
    "    def __init__(self, items):\n",
    "        self.items = items\n",
    "        self.current = 0\n",
    "    \n",
    "    def __iter__(self):\n",
    "        return self\n",
    "\n",
    "    def __next__(self):\n",
    "        if self.current >= len(self.items):\n",
    "            raise StopIteration\n",
    "        item = self.items[self.current]\n",
    "        self.current += 1\n",
    "        return item\n",
    "    \n",
    "    def remove(self):\n",
    "        raise NotImplementedError(\"Remove operation not supported\")"
   ]
  },
  {
   "cell_type": "code",
   "execution_count": 19,
   "metadata": {},
   "outputs": [
    {
     "name": "stdout",
     "output_type": "stream",
     "text": [
      "Is deque empty? True\n",
      "Is deque empty? False\n",
      "What is the size of deque? 4\n",
      "Remove 4\n",
      "Remove 6\n",
      "Deque items from front to back:\n",
      "2\n",
      "1\n",
      "3\n",
      "5\n"
     ]
    },
    {
     "data": {
      "text/plain": [
       "' TODO '"
      ]
     },
     "execution_count": 19,
     "metadata": {},
     "output_type": "execute_result"
    }
   ],
   "source": [
    "deque = Deque()\n",
    "print(\"Is deque empty? %s\" % deque.is_empty())\n",
    "deque.add_first(1)\n",
    "deque.add_first(2)\n",
    "print(\"Is deque empty? %s\" % deque.is_empty())\n",
    "deque.add_last(3)\n",
    "deque.add_first(4)\n",
    "print(\"What is the size of deque? %s\" % deque.size())\n",
    "deque.add_last(5)\n",
    "deque.add_last(6)\n",
    "print(\"Remove %s\" % deque.remove_first())\n",
    "print(\"Remove %s\" % deque.remove_last())\n",
    "print(\"Deque items from front to back:\")\n",
    "for item in deque:\n",
    "    print(item)\n"
   ]
  }
 ],
 "metadata": {
  "kernelspec": {
   "display_name": "Python 3",
   "language": "python",
   "name": "python3"
  },
  "language_info": {
   "codemirror_mode": {
    "name": "ipython",
    "version": 3
   },
   "file_extension": ".py",
   "mimetype": "text/x-python",
   "name": "python",
   "nbconvert_exporter": "python",
   "pygments_lexer": "ipython3",
   "version": "3.9.6"
  }
 },
 "nbformat": 4,
 "nbformat_minor": 2
}
