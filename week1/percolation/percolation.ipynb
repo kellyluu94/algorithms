{
 "cells": [
  {
   "cell_type": "markdown",
   "metadata": {},
   "source": [
    "- Remember to include `self` as the first parameter to allow the method to access and operate on the instance's attributes and methods.\n"
   ]
  },
  {
   "cell_type": "code",
   "execution_count": 41,
   "metadata": {},
   "outputs": [],
   "source": [
    "class Percolation:\n",
    "    def __init__(self, n):\n",
    "        \"\"\" creates n-by-n grid, with all sites initially blocked \"\"\"\n",
    "        if n < 0:\n",
    "            raise ValueError('n should be a non-negative number')\n",
    "        self.n = n\n",
    "        self.grid = [[False] * n for _ in range(n)]\n",
    "        # Additional data structure to keeo track of the connectivity of sites\n",
    "        # Quick-Find data structure assigns the very root node\n",
    "        # Initialize each node is its own root. Add 2 for virtual top and bottom sites\n",
    "        self.id = [i for i in range(n * n + 2)]\n",
    "    \n",
    "    def open(self, row, col):\n",
    "        \"\"\" opens the site (row, col) if it is not open already \"\"\"\n",
    "        if not self.is_valid(row, col):\n",
    "            raise ValueError('row or column is out of bound')\n",
    "        site = self.map_to_id(row, col)\n",
    "        if not self.grid[row - 1][col - 1]:\n",
    "            self.grid[row - 1][col - 1] = True\n",
    "\n",
    "        if 1 <= site & site <= n:\n",
    "            self.union(site, 0)\n",
    "        if n * (n - 1) <= site & site <= n * n:\n",
    "            self.union(site, n * n + 1)\n",
    "    \n",
    "        neighbors = [\n",
    "            (row - 1, col), (row + 1, col), (row, col - 1), (row, col + 1)\n",
    "        ]\n",
    "        for r, c in neighbors:\n",
    "            if self.is_valid(r, c) and self.is_open(r, c):\n",
    "                neighbor_site = self.map_to_id(r, c)\n",
    "                self.union(site, neighbor_site)\n",
    "\n",
    "    def is_open(self, row, col):\n",
    "        \"\"\" is the site (row, col) open? \"\"\"\n",
    "        if not self.is_valid(row, col):\n",
    "            raise ValueError('row or column is out of bound')\n",
    "        return self.grid[row - 1][col - 1]\n",
    "\n",
    "    def is_full(self, row, col):\n",
    "        \"\"\" is the site (row, col) full? \"\"\"\n",
    "        if not self.is_valid(row, col):\n",
    "            raise ValueError('row or column is out of bound')\n",
    "        site = self.map_to_id(row, col)\n",
    "        return self.find(site) == self.find(0)\n",
    "        \n",
    "    def number_of_open_sites(self):\n",
    "        \"\"\"returns the number of open sites \"\"\"\n",
    "        return sum(row.count(True) for row in self.grid)\n",
    "\n",
    "    def percolates(self):\n",
    "        \"\"\" does the system percolate? \"\"\"\n",
    "        return self.find(0) == self.find(self.n * self.n + 1)\n",
    "\n",
    "    def is_valid(self, row, col):\n",
    "        \"\"\" checks if row and column is not out of bounds \"\"\"\n",
    "        return 0 < row <= self.n and 0 < col <= self.n\n",
    "    \n",
    "    def map_to_id(self, row, col):\n",
    "        return (row - 1) * self.n + col\n",
    "    \n",
    "    # Quick Union\n",
    "    def union(self, p, q):\n",
    "        pid = self.find(p)\n",
    "        qid = self.find(q)\n",
    "        if pid != qid:\n",
    "            self.id[pid] = qid\n",
    "    \n",
    "    def find(self, p):\n",
    "        while p != self.id[p]:\n",
    "            p = self.id[p]\n",
    "        return p\n",
    "\n"
   ]
  },
  {
   "cell_type": "code",
   "execution_count": 49,
   "metadata": {},
   "outputs": [
    {
     "name": "stdout",
     "output_type": "stream",
     "text": [
      "Is (1, 1) full? True\n",
      "Is (1, 1) full? True\n",
      "Is (3, 2) full? True\n",
      "Does the system percolate? True\n"
     ]
    }
   ],
   "source": [
    "n = 3;\n",
    "p = Percolation(n);\n",
    "\n",
    "p.open(1, 1)\n",
    "p.open(1, 2)\n",
    "p.open(1, 3)\n",
    "p.open(2, 1)\n",
    "p.open(2, 2)\n",
    "p.open(3, 2)\n",
    "p.open(3, 1)\n",
    "\n",
    "print(\"Is (1, 1) full? %s\" % p.is_open(1, 1))\n",
    "print(\"Is (1, 1) full? %s\" % p.is_full(1, 1))\n",
    "print(\"Is (3, 2) full? %s\" % p.is_full(3, 2))\n",
    "print(\"Does the system percolate? %s\" % p.percolates())"
   ]
  },
  {
   "cell_type": "code",
   "execution_count": 23,
   "metadata": {},
   "outputs": [
    {
     "data": {
      "text/plain": [
       "[0, 1, 4]"
      ]
     },
     "execution_count": 23,
     "metadata": {},
     "output_type": "execute_result"
    }
   ],
   "source": [
    "x =  Percolation(5)\n",
    "import random\n",
    "\n",
    "random.randint(1, 5)\n",
    "\n",
    "ls = [2, 3, 4]\n",
    "[(x - 2)**2 for x in ls]"
   ]
  },
  {
   "cell_type": "code",
   "execution_count": 36,
   "metadata": {},
   "outputs": [
    {
     "ename": "KeyboardInterrupt",
     "evalue": "",
     "output_type": "error",
     "traceback": [
      "\u001b[0;31m---------------------------------------------------------------------------\u001b[0m",
      "\u001b[0;31mKeyboardInterrupt\u001b[0m                         Traceback (most recent call last)",
      "\u001b[1;32m/Users/kellyluu/Documents/dev/algorithm/week1/percolation/percolation.ipynb Cell 4\u001b[0m line \u001b[0;36m4\n\u001b[1;32m     <a href='vscode-notebook-cell:/Users/kellyluu/Documents/dev/algorithm/week1/percolation/percolation.ipynb#W3sZmlsZQ%3D%3D?line=37'>38</a>\u001b[0m \u001b[39m        \u001b[39m\u001b[39m\"\"\" high endpoint of 95% confidence interval \"\"\"\u001b[39;00m\n\u001b[1;32m     <a href='vscode-notebook-cell:/Users/kellyluu/Documents/dev/algorithm/week1/percolation/percolation.ipynb#W3sZmlsZQ%3D%3D?line=38'>39</a>\u001b[0m         \u001b[39mreturn\u001b[39;00m \u001b[39mself\u001b[39m\u001b[39m.\u001b[39mmean \u001b[39m+\u001b[39m \u001b[39m1.96\u001b[39m \u001b[39m*\u001b[39m \u001b[39mself\u001b[39m\u001b[39m.\u001b[39mstddev \u001b[39m/\u001b[39m (\u001b[39mself\u001b[39m\u001b[39m.\u001b[39mtrials \u001b[39m*\u001b[39m\u001b[39m*\u001b[39m \u001b[39m0.5\u001b[39m)\n\u001b[0;32m---> <a href='vscode-notebook-cell:/Users/kellyluu/Documents/dev/algorithm/week1/percolation/percolation.ipynb#W3sZmlsZQ%3D%3D?line=40'>41</a>\u001b[0m stats \u001b[39m=\u001b[39m PercolationStats(\u001b[39m4\u001b[39;49m, \u001b[39m5\u001b[39;49m)\n\u001b[1;32m     <a href='vscode-notebook-cell:/Users/kellyluu/Documents/dev/algorithm/week1/percolation/percolation.ipynb#W3sZmlsZQ%3D%3D?line=41'>42</a>\u001b[0m \u001b[39mprint\u001b[39m(stats\u001b[39m.\u001b[39mmean(), stats\u001b[39m.\u001b[39mstddev(), stats\u001b[39m.\u001b[39mconfidenceLo(), stats\u001b[39m.\u001b[39mconfidenceHi())\n",
      "\u001b[1;32m/Users/kellyluu/Documents/dev/algorithm/week1/percolation/percolation.ipynb Cell 4\u001b[0m line \u001b[0;36m1\n\u001b[1;32m     <a href='vscode-notebook-cell:/Users/kellyluu/Documents/dev/algorithm/week1/percolation/percolation.ipynb#W3sZmlsZQ%3D%3D?line=14'>15</a>\u001b[0m     row \u001b[39m=\u001b[39m random\u001b[39m.\u001b[39mrandint(\u001b[39m1\u001b[39m, n)\n\u001b[1;32m     <a href='vscode-notebook-cell:/Users/kellyluu/Documents/dev/algorithm/week1/percolation/percolation.ipynb#W3sZmlsZQ%3D%3D?line=15'>16</a>\u001b[0m     col \u001b[39m=\u001b[39m random\u001b[39m.\u001b[39mrandint(\u001b[39m1\u001b[39m, n)\n\u001b[0;32m---> <a href='vscode-notebook-cell:/Users/kellyluu/Documents/dev/algorithm/week1/percolation/percolation.ipynb#W3sZmlsZQ%3D%3D?line=16'>17</a>\u001b[0m     p\u001b[39m.\u001b[39;49mopen(row, col)\n\u001b[1;32m     <a href='vscode-notebook-cell:/Users/kellyluu/Documents/dev/algorithm/week1/percolation/percolation.ipynb#W3sZmlsZQ%3D%3D?line=17'>18</a>\u001b[0m fraction \u001b[39m=\u001b[39m p\u001b[39m.\u001b[39mnumber_of_open_sites() \u001b[39m/\u001b[39m (n \u001b[39m*\u001b[39m n)\n\u001b[1;32m     <a href='vscode-notebook-cell:/Users/kellyluu/Documents/dev/algorithm/week1/percolation/percolation.ipynb#W3sZmlsZQ%3D%3D?line=18'>19</a>\u001b[0m \u001b[39mself\u001b[39m\u001b[39m.\u001b[39mfraction\u001b[39m.\u001b[39mappend(fraction)\n",
      "\u001b[1;32m/Users/kellyluu/Documents/dev/algorithm/week1/percolation/percolation.ipynb Cell 4\u001b[0m line \u001b[0;36m3\n\u001b[1;32m     <a href='vscode-notebook-cell:/Users/kellyluu/Documents/dev/algorithm/week1/percolation/percolation.ipynb#W3sZmlsZQ%3D%3D?line=29'>30</a>\u001b[0m \u001b[39mif\u001b[39;00m \u001b[39mself\u001b[39m\u001b[39m.\u001b[39mis_valid(r, c) \u001b[39mand\u001b[39;00m \u001b[39mself\u001b[39m\u001b[39m.\u001b[39mis_open(r, c):\n\u001b[1;32m     <a href='vscode-notebook-cell:/Users/kellyluu/Documents/dev/algorithm/week1/percolation/percolation.ipynb#W3sZmlsZQ%3D%3D?line=30'>31</a>\u001b[0m     neighbor_site \u001b[39m=\u001b[39m \u001b[39mself\u001b[39m\u001b[39m.\u001b[39mmap_to_id(r, c)\n\u001b[0;32m---> <a href='vscode-notebook-cell:/Users/kellyluu/Documents/dev/algorithm/week1/percolation/percolation.ipynb#W3sZmlsZQ%3D%3D?line=31'>32</a>\u001b[0m     \u001b[39mself\u001b[39;49m\u001b[39m.\u001b[39;49munion(site, neighbor_site)\n",
      "\u001b[1;32m/Users/kellyluu/Documents/dev/algorithm/week1/percolation/percolation.ipynb Cell 4\u001b[0m line \u001b[0;36m6\n\u001b[1;32m     <a href='vscode-notebook-cell:/Users/kellyluu/Documents/dev/algorithm/week1/percolation/percolation.ipynb#W3sZmlsZQ%3D%3D?line=62'>63</a>\u001b[0m \u001b[39mdef\u001b[39;00m \u001b[39munion\u001b[39m(\u001b[39mself\u001b[39m, p, q):\n\u001b[0;32m---> <a href='vscode-notebook-cell:/Users/kellyluu/Documents/dev/algorithm/week1/percolation/percolation.ipynb#W3sZmlsZQ%3D%3D?line=63'>64</a>\u001b[0m     pid \u001b[39m=\u001b[39m \u001b[39mself\u001b[39;49m\u001b[39m.\u001b[39;49mfind(p)\n\u001b[1;32m     <a href='vscode-notebook-cell:/Users/kellyluu/Documents/dev/algorithm/week1/percolation/percolation.ipynb#W3sZmlsZQ%3D%3D?line=64'>65</a>\u001b[0m     qid \u001b[39m=\u001b[39m \u001b[39mself\u001b[39m\u001b[39m.\u001b[39mfind(q)\n\u001b[1;32m     <a href='vscode-notebook-cell:/Users/kellyluu/Documents/dev/algorithm/week1/percolation/percolation.ipynb#W3sZmlsZQ%3D%3D?line=65'>66</a>\u001b[0m     \u001b[39mif\u001b[39;00m pid \u001b[39m!=\u001b[39m qid:\n",
      "\u001b[1;32m/Users/kellyluu/Documents/dev/algorithm/week1/percolation/percolation.ipynb Cell 4\u001b[0m line \u001b[0;36m7\n\u001b[1;32m     <a href='vscode-notebook-cell:/Users/kellyluu/Documents/dev/algorithm/week1/percolation/percolation.ipynb#W3sZmlsZQ%3D%3D?line=68'>69</a>\u001b[0m \u001b[39mdef\u001b[39;00m \u001b[39mfind\u001b[39m(\u001b[39mself\u001b[39m, p):\n\u001b[0;32m---> <a href='vscode-notebook-cell:/Users/kellyluu/Documents/dev/algorithm/week1/percolation/percolation.ipynb#W3sZmlsZQ%3D%3D?line=69'>70</a>\u001b[0m     \u001b[39mwhile\u001b[39;00m p \u001b[39m!=\u001b[39m \u001b[39mself\u001b[39;49m\u001b[39m.\u001b[39;49mid[p]:\n\u001b[1;32m     <a href='vscode-notebook-cell:/Users/kellyluu/Documents/dev/algorithm/week1/percolation/percolation.ipynb#W3sZmlsZQ%3D%3D?line=70'>71</a>\u001b[0m         p \u001b[39m=\u001b[39m \u001b[39mself\u001b[39m\u001b[39m.\u001b[39mid[p]\n\u001b[1;32m     <a href='vscode-notebook-cell:/Users/kellyluu/Documents/dev/algorithm/week1/percolation/percolation.ipynb#W3sZmlsZQ%3D%3D?line=71'>72</a>\u001b[0m     \u001b[39mreturn\u001b[39;00m p\n",
      "\u001b[0;31mKeyboardInterrupt\u001b[0m: "
     ]
    }
   ],
   "source": [
    "import random\n",
    "import time\n",
    "\n",
    "class PercolationStats:\n",
    "    def __init__(self, n, trials) -> None:\n",
    "        \"\"\" perform independent trials on an n-by-n grid \"\"\"\n",
    "        if n <= 0 or trials <= 0:\n",
    "            raise ValueError(\"Invalid input. Both n and trials must be greater than 0.\")\n",
    "        self.n = n\n",
    "        self.trials = trials\n",
    "        self.fraction = []\n",
    "        for i in range(trials):\n",
    "            p = Percolation(n)\n",
    "            while not p.percolates():\n",
    "                row = random.randint(1, n)\n",
    "                col = random.randint(1, n)\n",
    "                p.open(row, col)\n",
    "            fraction = p.number_of_open_sites() / (n * n)\n",
    "            self.fraction.append(fraction)\n",
    "    \n",
    "    def mean(self):\n",
    "        \"\"\" sample mean of percolation threshold \"\"\"\n",
    "        result = sum(self.fraction) / self.trials\n",
    "        self.mean = result\n",
    "        return result\n",
    "    \n",
    "    def stddev(self):\n",
    "        \"\"\" sample standard deviation of percolation threshold \"\"\"\n",
    "        result = sum([(x - self.mean)**2 for x in self.fraction]) / (self.trials - 1)\n",
    "        self.stddev = result\n",
    "        return result\n",
    "    \n",
    "    def confidenceLo(self):\n",
    "        \"\"\" low endpoint of 95% confidence interval \"\"\"\n",
    "        return self.mean - 1.96 * self.stddev / (self.trials ** 0.5)\n",
    "    \n",
    "    def confidenceHi(self):\n",
    "        \"\"\" high endpoint of 95% confidence interval \"\"\"\n",
    "        return self.mean + 1.96 * self.stddev / (self.trials ** 0.5)\n",
    "\n",
    "stats = PercolationStats(4, 5)\n",
    "print(stats.mean(), stats.stddev(), stats.confidenceLo(), stats.confidenceHi())\n",
    "    \n"
   ]
  }
 ],
 "metadata": {
  "kernelspec": {
   "display_name": "Python 3",
   "language": "python",
   "name": "python3"
  },
  "language_info": {
   "codemirror_mode": {
    "name": "ipython",
    "version": 3
   },
   "file_extension": ".py",
   "mimetype": "text/x-python",
   "name": "python",
   "nbconvert_exporter": "python",
   "pygments_lexer": "ipython3",
   "version": "3.9.6"
  }
 },
 "nbformat": 4,
 "nbformat_minor": 2
}
